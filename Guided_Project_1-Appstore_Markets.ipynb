{
 "cells": [
  {
   "cell_type": "markdown",
   "metadata": {},
   "source": [
    "# Profitable Apps in the Android Playstore and Apple Appstore markets\n",
    "\n",
    "The aim of this project is to find the mobile apps that are profitable in the Android Playstore and Apple Appstore markets. I work as a data analyst for a company which develops Android and iOS mobile apps, and my job is to enable our team of developers to make data-driven decisions with respect to the kind of apps they build.\n",
    "\n",
    "At our company, the apps that are built are totally free to download and install, therefore, the company's only revenue model is in-app ads. This means that our revenue for any given app is mostly influenced by the number of users that use our app.\n",
    "\n",
    "So, our goal for this project is to analyze the data of free apps inorder to help developers understand the kind(genre) of apps most users are interested in."
   ]
  },
  {
   "cell_type": "markdown",
   "metadata": {},
   "source": [
    "## Opening and exploring the datasets"
   ]
  },
  {
   "cell_type": "code",
   "execution_count": 1,
   "metadata": {
    "collapsed": true
   },
   "outputs": [],
   "source": [
    "def open_dataset(filename):\n",
    "    opened_file=open(filename)\n",
    "    from csv import reader\n",
    "    read_file=reader(opened_file)\n",
    "    dataset=list(read_file)\n",
    "    return dataset"
   ]
  },
  {
   "cell_type": "code",
   "execution_count": 2,
   "metadata": {
    "collapsed": true
   },
   "outputs": [],
   "source": [
    "def explore_data(dataset,start,end,rows_and_cols=False):\n",
    "    sliced_data=dataset[start:end]\n",
    "    \n",
    "    for i in sliced_data:\n",
    "        print(i)\n",
    "        print('\\n')\n",
    "        \n",
    "    if rows_and_cols:\n",
    "        print('Number of rows:',len(dataset))\n",
    "        print('Number of columns:',len(dataset[0]))"
   ]
  },
  {
   "cell_type": "code",
   "execution_count": 3,
   "metadata": {
    "collapsed": false
   },
   "outputs": [
    {
     "name": "stdout",
     "output_type": "stream",
     "text": [
      "['id', 'track_name', 'size_bytes', 'currency', 'price', 'rating_count_tot', 'rating_count_ver', 'user_rating', 'user_rating_ver', 'ver', 'cont_rating', 'prime_genre', 'sup_devices.num', 'ipadSc_urls.num', 'lang.num', 'vpp_lic']\n",
      "\n",
      "\n",
      "['284882215', 'Facebook', '389879808', 'USD', '0.0', '2974676', '212', '3.5', '3.5', '95.0', '4+', 'Social Networking', '37', '1', '29', '1']\n",
      "\n",
      "\n",
      "['389801252', 'Instagram', '113954816', 'USD', '0.0', '2161558', '1289', '4.5', '4.0', '10.23', '12+', 'Photo & Video', '37', '0', '29', '1']\n",
      "\n",
      "\n",
      "['529479190', 'Clash of Clans', '116476928', 'USD', '0.0', '2130805', '579', '4.5', '4.5', '9.24.12', '9+', 'Games', '38', '5', '18', '1']\n",
      "\n",
      "\n",
      "Number of rows: 7197\n",
      "Number of columns: 16\n"
     ]
    }
   ],
   "source": [
    "ios_dataset=open_dataset(\"AppleStore.csv\")\n",
    "ios_apps_data_header=ios_dataset[0]\n",
    "ios_apps_data=ios_dataset[1:]\n",
    "print(ios_apps_data_header)\n",
    "print('\\n')\n",
    "explore_data(ios_apps_data,0,3,True)"
   ]
  },
  {
   "cell_type": "code",
   "execution_count": 4,
   "metadata": {
    "collapsed": false
   },
   "outputs": [
    {
     "name": "stdout",
     "output_type": "stream",
     "text": [
      "['App', 'Category', 'Rating', 'Reviews', 'Size', 'Installs', 'Type', 'Price', 'Content Rating', 'Genres', 'Last Updated', 'Current Ver', 'Android Ver']\n",
      "\n",
      "\n",
      "['Photo Editor & Candy Camera & Grid & ScrapBook', 'ART_AND_DESIGN', '4.1', '159', '19M', '10,000+', 'Free', '0', 'Everyone', 'Art & Design', 'January 7, 2018', '1.0.0', '4.0.3 and up']\n",
      "\n",
      "\n",
      "['Coloring book moana', 'ART_AND_DESIGN', '3.9', '967', '14M', '500,000+', 'Free', '0', 'Everyone', 'Art & Design;Pretend Play', 'January 15, 2018', '2.0.0', '4.0.3 and up']\n",
      "\n",
      "\n",
      "['U Launcher Lite – FREE Live Cool Themes, Hide Apps', 'ART_AND_DESIGN', '4.7', '87510', '8.7M', '5,000,000+', 'Free', '0', 'Everyone', 'Art & Design', 'August 1, 2018', '1.2.4', '4.0.3 and up']\n",
      "\n",
      "\n",
      "Number of rows: 10840\n",
      "Number of columns: 13\n",
      "10841\n"
     ]
    }
   ],
   "source": [
    "and_dataset=open_dataset(\"googleplaystore.csv\")\n",
    "\n",
    "del and_dataset[10473] #deleting the row with a missing value\n",
    "\n",
    "and_apps_data_header=and_dataset[0]\n",
    "and_apps_data=and_dataset[1:]\n",
    "print(and_apps_data_header)\n",
    "print('\\n')\n",
    "\n",
    "explore_data(and_apps_data,0,3,True)\n",
    "print(len(and_dataset))"
   ]
  },
  {
   "cell_type": "markdown",
   "metadata": {},
   "source": [
    "## Removing the duplicate rows"
   ]
  },
  {
   "cell_type": "code",
   "execution_count": 5,
   "metadata": {
    "collapsed": false
   },
   "outputs": [
    {
     "name": "stdout",
     "output_type": "stream",
     "text": [
      "1181\n",
      "['Quick PDF Scanner + OCR FREE', 'Box', 'Google My Business', 'ZOOM Cloud Meetings', 'join.me - Simple Meetings', 'Box', 'Zenefits', 'Google Ads', 'Google My Business', 'Slack']\n"
     ]
    }
   ],
   "source": [
    "duplicate_apps=[]\n",
    "unique_apps=[]\n",
    "\n",
    "for i in and_apps_data:\n",
    "    name=i[0]\n",
    "    if name in unique_apps:\n",
    "        duplicate_apps.append(name)\n",
    "    else:\n",
    "        unique_apps.append(name)\n",
    "        \n",
    "print(len(duplicate_apps))\n",
    "print(duplicate_apps[:10])"
   ]
  },
  {
   "cell_type": "code",
   "execution_count": 6,
   "metadata": {
    "collapsed": false
   },
   "outputs": [
    {
     "name": "stdout",
     "output_type": "stream",
     "text": [
      "9659\n"
     ]
    }
   ],
   "source": [
    "reviews_max={}\n",
    "\n",
    "for i in and_apps_data:\n",
    "    name,reviews=i[0],int(i[3])\n",
    "    if name in reviews_max:\n",
    "        if reviews > reviews_max[name]:\n",
    "            reviews_max[name]=reviews\n",
    "    else:\n",
    "        reviews_max[name]=reviews\n",
    "    \n",
    "print(len(reviews_max))"
   ]
  },
  {
   "cell_type": "code",
   "execution_count": 7,
   "metadata": {
    "collapsed": false
   },
   "outputs": [
    {
     "name": "stdout",
     "output_type": "stream",
     "text": [
      "Expected length: 9659\n",
      "Actual length: 9659\n"
     ]
    }
   ],
   "source": [
    "print('Expected length:', len(and_apps_data) - 1181)\n",
    "print('Actual length:', len(reviews_max))"
   ]
  },
  {
   "cell_type": "code",
   "execution_count": 8,
   "metadata": {
    "collapsed": false
   },
   "outputs": [],
   "source": [
    "android_clean=[]\n",
    "already_added=[]\n",
    "\n",
    "for i in and_apps_data:\n",
    "    name,reviews=i[0],int(i[3])\n",
    "    if reviews==reviews_max[name] and name not in already_added:\n",
    "        android_clean.append(i)\n",
    "        already_added.append(name)       "
   ]
  },
  {
   "cell_type": "code",
   "execution_count": 9,
   "metadata": {
    "collapsed": false
   },
   "outputs": [
    {
     "name": "stdout",
     "output_type": "stream",
     "text": [
      "['Photo Editor & Candy Camera & Grid & ScrapBook', 'ART_AND_DESIGN', '4.1', '159', '19M', '10,000+', 'Free', '0', 'Everyone', 'Art & Design', 'January 7, 2018', '1.0.0', '4.0.3 and up']\n",
      "\n",
      "\n",
      "['U Launcher Lite – FREE Live Cool Themes, Hide Apps', 'ART_AND_DESIGN', '4.7', '87510', '8.7M', '5,000,000+', 'Free', '0', 'Everyone', 'Art & Design', 'August 1, 2018', '1.2.4', '4.0.3 and up']\n",
      "\n",
      "\n",
      "['Sketch - Draw & Paint', 'ART_AND_DESIGN', '4.5', '215644', '25M', '50,000,000+', 'Free', '0', 'Teen', 'Art & Design', 'June 8, 2018', 'Varies with device', '4.2 and up']\n",
      "\n",
      "\n",
      "Number of rows: 9659\n",
      "Number of columns: 13\n"
     ]
    }
   ],
   "source": [
    "explore_data(android_clean,0,3,True)"
   ]
  },
  {
   "cell_type": "markdown",
   "metadata": {},
   "source": [
    "## Removing Non-English apps"
   ]
  },
  {
   "cell_type": "code",
   "execution_count": 10,
   "metadata": {
    "collapsed": false
   },
   "outputs": [],
   "source": [
    "def remove_non_english(lst,indx):\n",
    "    cleansed_list=[]\n",
    "\n",
    "    for i in lst:\n",
    "        name=i[indx]\n",
    "        flag=True\n",
    "        false_count=0\n",
    "        \n",
    "        for j in name:\n",
    "            if ord(j)>127:\n",
    "                false_count+=1\n",
    "        \n",
    "        if false_count<=3:\n",
    "            flag=True\n",
    "        else:\n",
    "            flag=False                    \n",
    "                        \n",
    "        if flag==True:\n",
    "            cleansed_list.append(i)\n",
    "    \n",
    "    return cleansed_list\n",
    "    "
   ]
  },
  {
   "cell_type": "code",
   "execution_count": 11,
   "metadata": {
    "collapsed": false
   },
   "outputs": [
    {
     "name": "stdout",
     "output_type": "stream",
     "text": [
      "9614\n",
      "6183\n"
     ]
    }
   ],
   "source": [
    "android_english=remove_non_english(android_clean,0)\n",
    "print(len(android_english))\n",
    "ios_english=remove_non_english(ios_apps_data,1)\n",
    "print(len(ios_english))"
   ]
  },
  {
   "cell_type": "code",
   "execution_count": 12,
   "metadata": {
    "collapsed": false
   },
   "outputs": [
    {
     "name": "stdout",
     "output_type": "stream",
     "text": [
      "3222\n",
      "8864\n"
     ]
    }
   ],
   "source": [
    "ios_final=[]\n",
    "android_final=[]\n",
    "\n",
    "for i in ios_english:\n",
    "    price=float(i[4])\n",
    "    if price==0.0:\n",
    "        ios_final.append(i)\n",
    "\n",
    "\n",
    "for i in android_english:\n",
    "    price=i[7]\n",
    "    if price=='0':\n",
    "        android_final.append(i)\n",
    "\n",
    "print(len(ios_final))\n",
    "print(len(android_final))        "
   ]
  },
  {
   "cell_type": "markdown",
   "metadata": {},
   "source": [
    "## Most Common Apps by Genre"
   ]
  },
  {
   "cell_type": "code",
   "execution_count": 13,
   "metadata": {
    "collapsed": true
   },
   "outputs": [],
   "source": [
    "def genre_freq(lst, indx):\n",
    "    \n",
    "    freq_dict={}\n",
    "    percent_dict={}\n",
    "    total=0\n",
    "    \n",
    "    for i in lst:\n",
    "        total+=1\n",
    "        genre=i[indx]\n",
    "        \n",
    "        if genre in freq_dict:\n",
    "            freq_dict[genre]+=1\n",
    "        else:\n",
    "            freq_dict[genre]=1\n",
    "    \n",
    "    for i in freq_dict:\n",
    "        percent_dict[i]=(freq_dict[i]/total)*100\n",
    "    \n",
    "    return percent_dict"
   ]
  },
  {
   "cell_type": "code",
   "execution_count": 14,
   "metadata": {
    "collapsed": true
   },
   "outputs": [],
   "source": [
    "def display_table(dataset,indx):\n",
    "    freq_table=genre_freq(dataset,indx)\n",
    "    list_of_tuples=[]\n",
    "    \n",
    "    for i in freq_table:\n",
    "        freq_table_as_tuple=(freq_table[i],i)\n",
    "        list_of_tuples.append(freq_table_as_tuple)\n",
    "        \n",
    "    sorted_list_of_tuples=sorted(list_of_tuples,reverse=True)    \n",
    "        \n",
    "    for i in sorted_list_of_tuples:\n",
    "        print(i[1],':',i[0])"
   ]
  },
  {
   "cell_type": "code",
   "execution_count": 15,
   "metadata": {
    "collapsed": false
   },
   "outputs": [
    {
     "name": "stdout",
     "output_type": "stream",
     "text": [
      "Games : 58.16263190564867\n",
      "Entertainment : 7.883302296710118\n",
      "Photo & Video : 4.9658597144630665\n",
      "Education : 3.662321539416512\n",
      "Social Networking : 3.2898820608317814\n",
      "Shopping : 2.60707635009311\n",
      "Utilities : 2.5139664804469275\n",
      "Sports : 2.1415270018621975\n",
      "Music : 2.0484171322160147\n",
      "Health & Fitness : 2.0173805090006205\n",
      "Productivity : 1.7380509000620732\n",
      "Lifestyle : 1.5828677839851024\n",
      "News : 1.3345747982619491\n",
      "Travel : 1.2414649286157666\n",
      "Finance : 1.1173184357541899\n",
      "Weather : 0.8690254500310366\n",
      "Food & Drink : 0.8069522036002483\n",
      "Reference : 0.5586592178770949\n",
      "Business : 0.5276225946617008\n",
      "Book : 0.4345127250155183\n",
      "Navigation : 0.186219739292365\n",
      "Medical : 0.186219739292365\n",
      "Catalogs : 0.12414649286157665\n",
      "\n",
      "\n",
      "FAMILY : 18.907942238267147\n",
      "GAME : 9.724729241877256\n",
      "TOOLS : 8.461191335740072\n",
      "BUSINESS : 4.591606498194946\n",
      "LIFESTYLE : 3.9034296028880866\n",
      "PRODUCTIVITY : 3.892148014440433\n",
      "FINANCE : 3.7003610108303246\n",
      "MEDICAL : 3.531137184115524\n",
      "SPORTS : 3.395758122743682\n",
      "PERSONALIZATION : 3.3167870036101084\n",
      "COMMUNICATION : 3.2378158844765346\n",
      "HEALTH_AND_FITNESS : 3.0798736462093865\n",
      "PHOTOGRAPHY : 2.944494584837545\n",
      "NEWS_AND_MAGAZINES : 2.7978339350180503\n",
      "SOCIAL : 2.6624548736462095\n",
      "TRAVEL_AND_LOCAL : 2.33528880866426\n",
      "SHOPPING : 2.2450361010830324\n",
      "BOOKS_AND_REFERENCE : 2.1435018050541514\n",
      "DATING : 1.861462093862816\n",
      "VIDEO_PLAYERS : 1.7937725631768955\n",
      "MAPS_AND_NAVIGATION : 1.3989169675090252\n",
      "FOOD_AND_DRINK : 1.2409747292418771\n",
      "EDUCATION : 1.1620036101083033\n",
      "ENTERTAINMENT : 0.9589350180505415\n",
      "LIBRARIES_AND_DEMO : 0.9363718411552346\n",
      "AUTO_AND_VEHICLES : 0.9250902527075812\n",
      "HOUSE_AND_HOME : 0.8235559566787004\n",
      "WEATHER : 0.8009927797833934\n",
      "EVENTS : 0.7107400722021661\n",
      "PARENTING : 0.6543321299638989\n",
      "ART_AND_DESIGN : 0.6430505415162455\n",
      "COMICS : 0.6204873646209386\n",
      "BEAUTY : 0.5979241877256317\n"
     ]
    }
   ],
   "source": [
    "display_table(ios_final,11)\n",
    "print('\\n')\n",
    "display_table(android_final,1)"
   ]
  },
  {
   "cell_type": "code",
   "execution_count": 16,
   "metadata": {
    "collapsed": false
   },
   "outputs": [
    {
     "name": "stdout",
     "output_type": "stream",
     "text": [
      "Navigation : 86090.33333333333\n",
      "Reference : 74942.11111111111\n",
      "Social Networking : 71548.34905660378\n",
      "Music : 57326.530303030304\n",
      "Weather : 52279.892857142855\n",
      "Book : 39758.5\n",
      "Food & Drink : 33333.92307692308\n",
      "Finance : 31467.944444444445\n",
      "Photo & Video : 28441.54375\n",
      "Travel : 28243.8\n",
      "Shopping : 26919.690476190477\n",
      "Health & Fitness : 23298.015384615384\n",
      "Sports : 23008.898550724636\n",
      "Games : 22788.6696905016\n",
      "News : 21248.023255813954\n",
      "Productivity : 21028.410714285714\n",
      "Utilities : 18684.456790123455\n",
      "Lifestyle : 16485.764705882353\n",
      "Entertainment : 14029.830708661417\n",
      "Business : 7491.117647058823\n",
      "Education : 7003.983050847458\n",
      "Catalogs : 4004.0\n",
      "Medical : 612.0\n"
     ]
    }
   ],
   "source": [
    "freq_dict={}\n",
    "apps_by_genre_dict={}\n",
    "avg_installs_dict={}\n",
    "temp_list_of_tuples=[]\n",
    "    \n",
    "for i in ios_final:\n",
    "    genre=i[11]\n",
    "    n_installs=float(i[5])\n",
    "        \n",
    "    if genre in freq_dict:\n",
    "        freq_dict[genre]+=1\n",
    "        apps_by_genre_dict[genre]+=n_installs\n",
    "    else:\n",
    "        freq_dict[genre]=1\n",
    "        apps_by_genre_dict[genre]=n_installs\n",
    "            \n",
    "for i in freq_dict:\n",
    "    avg_installs_dict[i]=apps_by_genre_dict[i]/freq_dict[i]\n",
    "    temp_tuple=(avg_installs_dict[i],i)\n",
    "    temp_list_of_tuples.append(temp_tuple)\n",
    "    \n",
    "templist_sorted=sorted(temp_list_of_tuples, reverse=True)    \n",
    "    \n",
    "for i in templist_sorted:\n",
    "    print(i[1],':',i[0])"
   ]
  },
  {
   "cell_type": "code",
   "execution_count": 17,
   "metadata": {
    "collapsed": false
   },
   "outputs": [
    {
     "name": "stdout",
     "output_type": "stream",
     "text": [
      "Evernote - stay organized : 161065\n",
      "Gmail - email by Google: secure, fast & organized : 135962\n",
      "iTranslate - Language Translator & Dictionary : 123215\n",
      "Yahoo Mail - Keeps You Organized! : 113709\n",
      "Google Docs : 64259\n",
      "Google Drive - free online storage : 59255\n",
      "Dropbox : 49578\n",
      "Microsoft Word : 47999\n",
      "Microsoft OneNote : 39638\n",
      "Microsoft Outlook - email and calendar : 32807\n",
      "Hotspot Shield Free VPN Proxy & Wi-Fi Privacy : 32499\n",
      "Documents 6 - File manager, PDF reader and browser : 29110\n",
      "Google Sheets : 24602\n",
      "Microsoft Excel : 24430\n",
      "Inbox by Gmail : 21561\n",
      "T-Mobile : 19977\n",
      "Paper by FiftyThree - Sketch, Diagram, Take Notes : 18219\n",
      "MyScript Calculator - Handwriting calculator : 16555\n",
      "VPN Proxy Master - Unlimited WiFi security VPN : 13674\n",
      "Microsoft OneDrive – File & photo cloud storage : 12797\n",
      "Ever - Capture Your Memories : 12755\n",
      "Speak & Translate － Voice and Text Translator : 12062\n",
      "Tayasui Sketches : 11505\n",
      "Drawing Desk - Draw, Paint, Doodle & Sketch board : 11040\n",
      "Microsoft PowerPoint : 10939\n",
      "Email - Fast & Secure mail for Gmail iCloud Yahoo : 10778\n",
      "Google Slides : 9920\n",
      "HP All-in-One Printer Remote : 9819\n",
      "Google Calendar – Make the most of every day : 7656\n",
      "Verizon Cloud : 6482\n",
      "Free VPN HexaTech - Unlimited VPN Proxy for iPhone : 5934\n",
      "Productive habits & daily goals tracker : 4736\n",
      "Adobe Spark Video, Animated Videos in minutes : 4302\n",
      "Adobe Illustrator Draw : 3215\n",
      "Concepts - Sketch, Design, Illustrate : 3101\n",
      "Trello : 2793\n",
      "Adobe Spark Page — Create Stunning Web Pages : 2528\n",
      "Workflow: Powerful Automation Made Simple : 1498\n",
      "ATracker - Daily Task and Time Tracking : 1114\n",
      "Bear : 891\n",
      "Family Organizer - Calendar Planner : 828\n",
      "Fingerprint Login: PassKey Password & Apps Lock : 718\n",
      "360云盘 : 437\n",
      "Mail Master by NetEase : 361\n",
      "Content Transf : 299\n",
      "HOUND Voice Search & Assistant : 297\n",
      "AutoScout24 - mobile used & new car market : 220\n",
      "WEB.DE Mail : 168\n",
      "GMX Mail : 102\n",
      "MetaMoJi Note Lite : 93\n",
      "Infinite Painter : 65\n",
      "Jottit : 14\n",
      "Free QR Code Reader simply to scan a QR Code : 10\n",
      "Official QR Code reader \"Q\" - QR app. - : 0\n",
      "Digiposte + : 0\n",
      "BarcodeReader「ICONIT」 : 0\n"
     ]
    }
   ],
   "source": [
    "for i in ios_final:\n",
    "    if i[11]==\"Productivity\":\n",
    "        print(i[1],':',i[5])"
   ]
  },
  {
   "cell_type": "code",
   "execution_count": 18,
   "metadata": {
    "collapsed": false
   },
   "outputs": [
    {
     "name": "stdout",
     "output_type": "stream",
     "text": [
      "COMMUNICATION : 38456119.167247385\n",
      "VIDEO_PLAYERS : 24727872.452830188\n",
      "SOCIAL : 23253652.127118643\n",
      "PHOTOGRAPHY : 17840110.40229885\n",
      "PRODUCTIVITY : 16787331.344927534\n",
      "GAME : 15588015.603248259\n",
      "TRAVEL_AND_LOCAL : 13984077.710144928\n",
      "ENTERTAINMENT : 11640705.88235294\n",
      "TOOLS : 10801391.298666667\n",
      "NEWS_AND_MAGAZINES : 9549178.467741935\n",
      "BOOKS_AND_REFERENCE : 8767811.894736841\n",
      "SHOPPING : 7036877.311557789\n",
      "PERSONALIZATION : 5201482.6122448975\n",
      "WEATHER : 5074486.197183099\n",
      "HEALTH_AND_FITNESS : 4188821.9853479853\n",
      "MAPS_AND_NAVIGATION : 4056941.7741935486\n",
      "FAMILY : 3695641.8198090694\n",
      "SPORTS : 3638640.1428571427\n",
      "ART_AND_DESIGN : 1986335.0877192982\n",
      "FOOD_AND_DRINK : 1924897.7363636363\n",
      "EDUCATION : 1833495.145631068\n",
      "BUSINESS : 1712290.1474201474\n",
      "LIFESTYLE : 1437816.2687861272\n",
      "FINANCE : 1387692.475609756\n",
      "HOUSE_AND_HOME : 1331540.5616438356\n",
      "DATING : 854028.8303030303\n",
      "COMICS : 817657.2727272727\n",
      "AUTO_AND_VEHICLES : 647317.8170731707\n",
      "LIBRARIES_AND_DEMO : 638503.734939759\n",
      "PARENTING : 542603.6206896552\n",
      "BEAUTY : 513151.88679245283\n",
      "EVENTS : 253542.22222222222\n",
      "MEDICAL : 120550.61980830671\n"
     ]
    }
   ],
   "source": [
    "freq_dict2={}\n",
    "apps_by_genre_dict2={}\n",
    "avg_installs_dict2={}\n",
    "temp_list_of_tuples2=[]\n",
    "    \n",
    "for i in android_final:\n",
    "    genre=i[1]\n",
    "    n_installs=i[5]\n",
    "    n_installs=n_installs.replace(',','')\n",
    "    n_installs=n_installs.replace('+','')\n",
    "    n_installs=float(n_installs)\n",
    "        \n",
    "    if genre in freq_dict2:\n",
    "        freq_dict2[genre]+=1\n",
    "        apps_by_genre_dict2[genre]+=n_installs\n",
    "    else:\n",
    "        freq_dict2[genre]=1\n",
    "        apps_by_genre_dict2[genre]=n_installs\n",
    "            \n",
    "for i in freq_dict2:\n",
    "    avg_installs_dict2[i]=apps_by_genre_dict2[i]/freq_dict2[i]\n",
    "    temp_tuple2=(avg_installs_dict2[i],i)\n",
    "    temp_list_of_tuples2.append(temp_tuple2)\n",
    "    \n",
    "templist_sorted2=sorted(temp_list_of_tuples2, reverse=True)    \n",
    "    \n",
    "for i in templist_sorted2:\n",
    "    print(i[1],':',i[0])   "
   ]
  },
  {
   "cell_type": "code",
   "execution_count": 20,
   "metadata": {
    "collapsed": false
   },
   "outputs": [
    {
     "name": "stdout",
     "output_type": "stream",
     "text": [
      "Manga Master - Best manga & comic reader : 500,000+\n",
      "GANMA! - All original stories free of charge for all original comics : 1,000,000+\n",
      "Röhrich Werner Soundboard : 500,000+\n",
      "Unicorn Pokez - Color By Number : 50,000+\n",
      "MangaToon - Comics updated Daily : 50,000+\n",
      "Manga Net – Best Online Manga Reader : 50,000+\n",
      "Manga Rock - Best Manga Reader : 1,000,000+\n",
      "Manga - read Thai translation : 10,000+\n",
      "The Vietnam Story - Fun Stories : 10,000+\n",
      "Dragon Ball Wallpaper - Ringtones : 10,000+\n",
      "Funny Jokes Photos : 10,000+\n",
      "Truyện Vui Tý Quậy : 10,000+\n",
      "Comic Es - Shojo manga / love comics free of charge ♪ ♪ : 100,000+\n",
      "comico Popular Original Cartoon Updated Everyday Comico : 5,000,000+\n",
      "漫咖 Comics - Manga,Novel and Stories : 1,000,000+\n",
      "Emmanuella Funny Videos 2018 : 100,000+\n",
      "Manga Zero - Japanese cartoon and comic reader : 1,000,000+\n",
      "Marvel Unlimited : 1,000,000+\n",
      "Tapas – Comics, Novels, and Stories : 1,000,000+\n",
      "Children's cartoons (Mithu-Mina-Raju) : 100,000+\n",
      "Narrator's Voice : 5,000,000+\n",
      "【Ranobbe complete free】 Novelba - Free app that you can read and write novels : 50,000+\n",
      "Faustop Sounds : 100,000+\n",
      "Manga Mania - Best online manga reader : 10,000+\n",
      "- Free Comics - Comic Apps : 10,000+\n",
      "Buff Thun - Daily Free Webtoon / Comics / Web Fiction / Mini Game : 500,000+\n",
      "pixiv comic - everyone's manga app : 1,000,000+\n",
      "Funny Jokes and Stories 2018 : 5,000+\n",
      "Hojiboy Tojiboyev Life Hacks : 1,000+\n",
      "Perfect Viewer : 5,000,000+\n",
      "Best Wallpapers Backgrounds(100,000+ 4K HD) : 10,000+\n",
      "think Comics : 50,000+\n",
      "Memes Button : 1,000,000+\n",
      "Laftel - Watching and Announcing Snooping, Streaming : 100,000+\n",
      "Q Avatar (Avatar Maker) : 100,000+\n",
      "LINE WEBTOON - Free Comics : 10,000,000+\n",
      "2000 AD Comics and Judge Dredd : 50,000+\n",
      "AF Comics Reader - Free : 100+\n",
      "Manga AZ - Manga Comic Reader : 5,000+\n",
      "Ba dum tss - Rimshot widget : 50,000+\n",
      "Izneo, Read Manga, Comics & BD : 500,000+\n",
      "Comics Reader : 100,000+\n",
      "Make your Be Like Bill : 5,000+\n",
      "WebComics : 1,000,000+\n",
      "Lezhin Comics - Daily Releases : 1,000,000+\n",
      "Daily Manga - Comic & Webtoon : 100,000+\n",
      "TappyToon Comics & Webtoons : 100,000+\n",
      "Manga Books : 500,000+\n",
      "CJ - BR MEMES : 10,000+\n",
      "Archie Comics : 100,000+\n",
      "DC Comics : 1,000,000+\n",
      "Comics : 5,000,000+\n",
      "Superheroes, Marvel, DC, Comics, TV, Movies News : 5,000+\n",
      "Pepsi Cards DC : 50+\n",
      "Manga-FR - Anime Vostfr : 10,000+\n"
     ]
    }
   ],
   "source": [
    "for i in android_final:\n",
    "    if i[1]==\"COMICS\":\n",
    "        print(i[0],':',i[5])"
   ]
  }
 ],
 "metadata": {
  "kernelspec": {
   "display_name": "Python 3",
   "language": "python",
   "name": "python3"
  },
  "language_info": {
   "codemirror_mode": {
    "name": "ipython",
    "version": 3
   },
   "file_extension": ".py",
   "mimetype": "text/x-python",
   "name": "python",
   "nbconvert_exporter": "python",
   "pygments_lexer": "ipython3",
   "version": "3.4.3"
  }
 },
 "nbformat": 4,
 "nbformat_minor": 2
}
